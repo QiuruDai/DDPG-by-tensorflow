{
 "cells": [
  {
   "cell_type": "code",
   "execution_count": 1,
   "metadata": {
    "scrolled": false
   },
   "outputs": [
    {
     "name": "stderr",
     "output_type": "stream",
     "text": [
      "/Applications/anaconda3/lib/python3.6/site-packages/h5py/__init__.py:34: FutureWarning: Conversion of the second argument of issubdtype from `float` to `np.floating` is deprecated. In future, it will be treated as `np.float64 == np.dtype(float).type`.\n",
      "  from ._conv import register_converters as _register_converters\n"
     ]
    }
   ],
   "source": [
    "import tensorflow as tf     \n",
    "import numpy as np          \n",
    "import os"
   ]
  },
  {
   "cell_type": "markdown",
   "metadata": {},
   "source": [
    "DDPG"
   ]
  },
  {
   "cell_type": "code",
   "execution_count": 2,
   "metadata": {
    "collapsed": true
   },
   "outputs": [],
   "source": [
    "#train while playing game, we do not need any data\n",
    "def train_jump_zero_envnoise(env, start, end, noise_sigma, init_memory, model_dir, experiment_dir,\n",
    "                         actor, critic, memory,\n",
    "                         actor_lr, critic_lr, batch_size,\n",
    "                         gamma, tau=0.01):\n",
    "    \n",
    "    #build agent: action_range=(-1., 1.),reward_scale=1.\n",
    "    agent = DDPG(actor, critic, memory, env.observation_shape, env.action_shape,\n",
    "                 actor_lr=actor_lr, critic_lr=critic_lr, batch_size=batch_size,\n",
    "                 gamma=gamma, tau=tau)\n",
    "\n",
    "    #saver\n",
    "    saver = tf.train.Saver(max_to_keep=20)\n",
    "    #------add save dir--------\n",
    "    checkpoint_dir = os.path.join(experiment_dir, \"checkpoints\")\n",
    "    checkpoint_path = os.path.join(checkpoint_dir, \"model\")\n",
    "    if not os.path.exists(checkpoint_dir):\n",
    "        os.makedirs(checkpoint_dir)\n",
    "    #summary dir------------------\n",
    "    summary_dir = os.path.join(experiment_dir, \"summaries\")\n",
    "    if not os.path.exists(summary_dir):#如果路径不存在创建路径\n",
    "        os.makedirs(summary_dir)\n",
    "    summary_writer = tf.summary.FileWriter(summary_dir)\n",
    "    summary = tf.Summary()\n",
    "    episode_summary = tf.Summary()\n",
    "    #----------------------------\n",
    "    with tf.Session() as sess:\n",
    "        \n",
    "        #load model if we have\n",
    "        latest_checkpoint = model_dir\n",
    "        if latest_checkpoint:\n",
    "            print(\"Loading model checkpoint {}...\\n\".format(latest_checkpoint))\n",
    "            saver.restore(sess, latest_checkpoint)\n",
    "            agent.sess = sess\n",
    "        else:\n",
    "        # Prepare everything.\n",
    "            print('Building new model...')\n",
    "            agent.initialize(sess)\n",
    "        #         sess.graph.finalize()\n",
    "        \n",
    "        #------------------------\n",
    "        #generate initial memory\n",
    "        print('Generating ',init_memory,' memory... Please reset game!')\n",
    "        for i in range(init_memory):\n",
    "            obs0 = env.reset()\n",
    "            while 1:\n",
    "                #get action\n",
    "                feed_dict = {agent.obs0: [obs0]}\n",
    "                action = sess.run(agent.actor_tf, feed_dict=feed_dict)\n",
    "                action = action.flatten()\n",
    "                \n",
    "                #add action niose for exploration \n",
    "                record_action = action + np.random.normal(0, noise_sigma)\n",
    "                record_action = np.clip(record_action, -1, 1)\n",
    "                \n",
    "                #add noise in env for robust\n",
    "                do_action = record_action + np.random.uniform(-0.15,0.15)\n",
    "                do_action = np.clip(do_action, -1, 1)\n",
    "                \n",
    "                #do action\n",
    "                obs1, reward, done, score = env.step(do_action)\n",
    "                    \n",
    "                #store transition\n",
    "                agent.store_transition(obs0, record_action, reward, obs1, done)\n",
    "\n",
    "                #judge death\n",
    "                if done:\n",
    "                    break\n",
    "                else:\n",
    "                    obs0 =obs1\n",
    "                        \n",
    "        #--------------------------------------      \n",
    "        print('Training...')\n",
    "        for episode in range(start, end+1):\n",
    "            #set game\n",
    "#             print('new game')\n",
    "            obs0 = env.reset()\n",
    "            episode_reward = 0\n",
    "            episode_step = 0\n",
    "            episode_score = 0\n",
    "            \n",
    "            while 1:\n",
    "                #get action\n",
    "                feed_dict = {agent.obs0: [obs0]}\n",
    "                action = sess.run(agent.actor_tf, feed_dict=feed_dict)\n",
    "                action = action.flatten()\n",
    "                \n",
    "                #add action niose for exploration \n",
    "                record_action = action + np.random.normal(0, noise_sigma)\n",
    "                record_action = np.clip(record_action, -1, 1)\n",
    "                \n",
    "                #add noise in env for robust\n",
    "                do_action = record_action + np.random.uniform(-0.15,0.15)\n",
    "                do_action = np.clip(do_action, -1, 1)\n",
    "                \n",
    "                #do action\n",
    "                obs1, reward, done, score = env.step(do_action)\n",
    "                episode_reward += reward \n",
    "                episode_step += 1\n",
    "                    \n",
    "                #store transition\n",
    "                agent.store_transition(obs0, record_action, reward, obs1, done)\n",
    "                obs0 =obs1\n",
    "                \n",
    "                # Train.\n",
    "                cl, al = agent.train()\n",
    "                global_step = sess.run(agent.global_step)\n",
    "                \n",
    "                #record loss\n",
    "                summary.value.add(simple_value=cl, tag=\"critic_loss\")\n",
    "                summary.value.add(simple_value=al, tag=\"actor_loss\")\n",
    "                summary_writer.add_summary(summary, global_step)\n",
    "                #record graph\n",
    "                #summary_writer.add_graph(sess.graph)\n",
    "                #flush\n",
    "                summary_writer.flush()\n",
    "\n",
    "                #update target model\n",
    "                agent.update_target_net()\n",
    "\n",
    "                \n",
    "                if done:\n",
    "                    episode_summary.value.add(simple_value=episode_reward, tag=\"episode_reward\")\n",
    "                    episode_summary.value.add(simple_value=episode_step, tag=\"episode_step\")\n",
    "                    episode_summary.value.add(simple_value=episode_score, tag=\"episode_score\")\n",
    "                    summary_writer.add_summary(episode_summary, episode)\n",
    "                    summary_writer.flush()\n",
    "                    #print('dead at',episode_step)\n",
    "                    break\n",
    "                else:\n",
    "                    episode_score = score\n",
    "                \n",
    "                #----------------------------------------------------------\n",
    "        \n",
    "                \n",
    "\n",
    "            #save model every 100 episodes\n",
    "            if episode>0 and episode%100 == 0:\n",
    "                saver.save(tf.get_default_session(), checkpoint_path+str(episode))\n",
    "                print('model saved at', episode,'episode, path:', checkpoint_path+str(episode))\n",
    "\n",
    "    print('Training completed at episode', episode)\n",
    "\n"
   ]
  },
  {
   "cell_type": "code",
   "execution_count": 3,
   "metadata": {
    "collapsed": true
   },
   "outputs": [],
   "source": [
    "from models_update import Actor, Critic"
   ]
  },
  {
   "cell_type": "code",
   "execution_count": 4,
   "metadata": {
    "collapsed": true
   },
   "outputs": [],
   "source": [
    "from memory import Memory"
   ]
  },
  {
   "cell_type": "code",
   "execution_count": 5,
   "metadata": {
    "collapsed": true
   },
   "outputs": [],
   "source": [
    "from ddpg import DDPG"
   ]
  },
  {
   "cell_type": "markdown",
   "metadata": {},
   "source": [
    "hyper-parameters"
   ]
  },
  {
   "cell_type": "code",
   "execution_count": 6,
   "metadata": {
    "collapsed": true
   },
   "outputs": [],
   "source": [
    "actor_lr = 1e-4\n",
    "critic_lr = 1e-3\n",
    "tau = 0.01\n",
    "nb_actions = 1"
   ]
  },
  {
   "cell_type": "code",
   "execution_count": 7,
   "metadata": {
    "collapsed": true
   },
   "outputs": [],
   "source": [
    "batch_size = 128\n",
    "limit=int(5000)\n",
    "noise_sigma = 0.1\n",
    "gamma = 0"
   ]
  },
  {
   "cell_type": "markdown",
   "metadata": {},
   "source": [
    "experiment setup"
   ]
  },
  {
   "cell_type": "code",
   "execution_count": 8,
   "metadata": {
    "collapsed": true
   },
   "outputs": [],
   "source": [
    "init_memory = 5\n",
    "# episodes = 10000\n",
    "model_dir = None\n",
    "start = 0\n",
    "end = 2000"
   ]
  },
  {
   "cell_type": "code",
   "execution_count": 9,
   "metadata": {
    "collapsed": true
   },
   "outputs": [],
   "source": [
    "experiment_dir = os.path.abspath(\"./ddpg-zero-model-envnoise-inputdim4/experiments/\")"
   ]
  },
  {
   "cell_type": "code",
   "execution_count": 10,
   "metadata": {
    "collapsed": true
   },
   "outputs": [],
   "source": [
    "#create env\n",
    "import cv2\n",
    "from jump_env_update import Jump_Env\n",
    "number_templet = [cv2.imread('templet/{}.jpg'.format(i)) for i in range(10)]\n",
    "restart_templet = cv2.imread('templet/again.jpg')\n",
    "env = Jump_Env(number_templet=number_templet, restart_templet=restart_templet)"
   ]
  },
  {
   "cell_type": "code",
   "execution_count": 11,
   "metadata": {
    "collapsed": true
   },
   "outputs": [],
   "source": [
    "actor = Actor(nb_actions, layer_norm=True)\n",
    "critic = Critic(layer_norm=True)\n",
    "memory = Memory(limit, action_shape=env.action_shape, observation_shape=env.observation_shape)"
   ]
  },
  {
   "cell_type": "code",
   "execution_count": 12,
   "metadata": {
    "scrolled": false
   },
   "outputs": [
    {
     "name": "stdout",
     "output_type": "stream",
     "text": [
      "setting up target updates ...\n",
      "len 16 = 16\n",
      "{ target_actor/Conv/weights:0 } <- { actor/Conv/weights:0 }\n",
      "{ target_actor/Conv/biases:0 } <- { actor/Conv/biases:0 }\n",
      "{ target_actor/Conv_1/weights:0 } <- { actor/Conv_1/weights:0 }\n",
      "{ target_actor/Conv_1/biases:0 } <- { actor/Conv_1/biases:0 }\n",
      "{ target_actor/Conv_2/weights:0 } <- { actor/Conv_2/weights:0 }\n",
      "{ target_actor/Conv_2/biases:0 } <- { actor/Conv_2/biases:0 }\n",
      "{ target_actor/dense/kernel:0 } <- { actor/dense/kernel:0 }\n",
      "{ target_actor/dense/bias:0 } <- { actor/dense/bias:0 }\n",
      "{ target_actor/LayerNorm/beta:0 } <- { actor/LayerNorm/beta:0 }\n",
      "{ target_actor/LayerNorm/gamma:0 } <- { actor/LayerNorm/gamma:0 }\n",
      "{ target_actor/dense_1/kernel:0 } <- { actor/dense_1/kernel:0 }\n",
      "{ target_actor/dense_1/bias:0 } <- { actor/dense_1/bias:0 }\n",
      "{ target_actor/LayerNorm_1/beta:0 } <- { actor/LayerNorm_1/beta:0 }\n",
      "{ target_actor/LayerNorm_1/gamma:0 } <- { actor/LayerNorm_1/gamma:0 }\n",
      "{ target_actor/dense_2/kernel:0 } <- { actor/dense_2/kernel:0 }\n",
      "{ target_actor/dense_2/bias:0 } <- { actor/dense_2/bias:0 }\n",
      "setting up target updates ...\n",
      "len 16 = 16\n",
      "{ target_critic/Conv/weights:0 } <- { critic/Conv/weights:0 }\n",
      "{ target_critic/Conv/biases:0 } <- { critic/Conv/biases:0 }\n",
      "{ target_critic/Conv_1/weights:0 } <- { critic/Conv_1/weights:0 }\n",
      "{ target_critic/Conv_1/biases:0 } <- { critic/Conv_1/biases:0 }\n",
      "{ target_critic/Conv_2/weights:0 } <- { critic/Conv_2/weights:0 }\n",
      "{ target_critic/Conv_2/biases:0 } <- { critic/Conv_2/biases:0 }\n",
      "{ target_critic/dense/kernel:0 } <- { critic/dense/kernel:0 }\n",
      "{ target_critic/dense/bias:0 } <- { critic/dense/bias:0 }\n",
      "{ target_critic/LayerNorm/beta:0 } <- { critic/LayerNorm/beta:0 }\n",
      "{ target_critic/LayerNorm/gamma:0 } <- { critic/LayerNorm/gamma:0 }\n",
      "{ target_critic/dense_1/kernel:0 } <- { critic/dense_1/kernel:0 }\n",
      "{ target_critic/dense_1/bias:0 } <- { critic/dense_1/bias:0 }\n",
      "{ target_critic/LayerNorm_1/beta:0 } <- { critic/LayerNorm_1/beta:0 }\n",
      "{ target_critic/LayerNorm_1/gamma:0 } <- { critic/LayerNorm_1/gamma:0 }\n",
      "{ target_critic/dense_2/kernel:0 } <- { critic/dense_2/kernel:0 }\n",
      "{ target_critic/dense_2/bias:0 } <- { critic/dense_2/bias:0 }\n",
      "setting up actor optimizer\n",
      "WARNING:tensorflow:From /Users/qrdai/project-ddpg/ddpg.py:11: calling reduce_mean (from tensorflow.python.ops.math_ops) with keep_dims is deprecated and will be removed in a future version.\n",
      "Instructions for updating:\n",
      "keep_dims is deprecated, use keepdims instead\n",
      "Building new model...\n",
      "Generating  5  memory... Please reset game!\n"
     ]
    },
    {
     "name": "stderr",
     "output_type": "stream",
     "text": [
      "/Applications/anaconda3/lib/python3.6/site-packages/skimage/transform/_warps.py:84: UserWarning: The default mode, 'constant', will be changed to 'reflect' in skimage 0.15.\n",
      "  warn(\"The default mode, 'constant', will be changed to 'reflect' in \"\n"
     ]
    },
    {
     "name": "stdout",
     "output_type": "stream",
     "text": [
      "Training...\n",
      "model saved at 100 episode, path: /Users/qrdai/project-ddpg/ddpg-zero-model-envnoise-inputdim4/experiments/checkpoints/model100\n",
      "model saved at 200 episode, path: /Users/qrdai/project-ddpg/ddpg-zero-model-envnoise-inputdim4/experiments/checkpoints/model200\n",
      "model saved at 300 episode, path: /Users/qrdai/project-ddpg/ddpg-zero-model-envnoise-inputdim4/experiments/checkpoints/model300\n",
      "model saved at 400 episode, path: /Users/qrdai/project-ddpg/ddpg-zero-model-envnoise-inputdim4/experiments/checkpoints/model400\n",
      "model saved at 500 episode, path: /Users/qrdai/project-ddpg/ddpg-zero-model-envnoise-inputdim4/experiments/checkpoints/model500\n",
      "model saved at 600 episode, path: /Users/qrdai/project-ddpg/ddpg-zero-model-envnoise-inputdim4/experiments/checkpoints/model600\n",
      "model saved at 700 episode, path: /Users/qrdai/project-ddpg/ddpg-zero-model-envnoise-inputdim4/experiments/checkpoints/model700\n",
      "model saved at 800 episode, path: /Users/qrdai/project-ddpg/ddpg-zero-model-envnoise-inputdim4/experiments/checkpoints/model800\n",
      "model saved at 900 episode, path: /Users/qrdai/project-ddpg/ddpg-zero-model-envnoise-inputdim4/experiments/checkpoints/model900\n",
      "model saved at 1000 episode, path: /Users/qrdai/project-ddpg/ddpg-zero-model-envnoise-inputdim4/experiments/checkpoints/model1000\n",
      "model saved at 1100 episode, path: /Users/qrdai/project-ddpg/ddpg-zero-model-envnoise-inputdim4/experiments/checkpoints/model1100\n",
      "model saved at 1200 episode, path: /Users/qrdai/project-ddpg/ddpg-zero-model-envnoise-inputdim4/experiments/checkpoints/model1200\n",
      "model saved at 1300 episode, path: /Users/qrdai/project-ddpg/ddpg-zero-model-envnoise-inputdim4/experiments/checkpoints/model1300\n",
      "model saved at 1400 episode, path: /Users/qrdai/project-ddpg/ddpg-zero-model-envnoise-inputdim4/experiments/checkpoints/model1400\n",
      "model saved at 1500 episode, path: /Users/qrdai/project-ddpg/ddpg-zero-model-envnoise-inputdim4/experiments/checkpoints/model1500\n",
      "model saved at 1600 episode, path: /Users/qrdai/project-ddpg/ddpg-zero-model-envnoise-inputdim4/experiments/checkpoints/model1600\n",
      "model saved at 1700 episode, path: /Users/qrdai/project-ddpg/ddpg-zero-model-envnoise-inputdim4/experiments/checkpoints/model1700\n",
      "model saved at 1800 episode, path: /Users/qrdai/project-ddpg/ddpg-zero-model-envnoise-inputdim4/experiments/checkpoints/model1800\n",
      "model saved at 1900 episode, path: /Users/qrdai/project-ddpg/ddpg-zero-model-envnoise-inputdim4/experiments/checkpoints/model1900\n",
      "model saved at 2000 episode, path: /Users/qrdai/project-ddpg/ddpg-zero-model-envnoise-inputdim4/experiments/checkpoints/model2000\n",
      "Training completed at episode 2000\n"
     ]
    }
   ],
   "source": [
    "train_jump_zero_envnoise(env=env, start=start, end=end, noise_sigma=noise_sigma, init_memory=init_memory, model_dir=model_dir, experiment_dir=experiment_dir, actor=actor, critic=critic, memory=memory, \n",
    "              actor_lr=actor_lr, critic_lr=critic_lr, batch_size=batch_size, gamma=gamma, tau=tau)"
   ]
  },
  {
   "cell_type": "code",
   "execution_count": null,
   "metadata": {
    "collapsed": true
   },
   "outputs": [],
   "source": []
  },
  {
   "cell_type": "code",
   "execution_count": null,
   "metadata": {
    "collapsed": true
   },
   "outputs": [],
   "source": []
  },
  {
   "cell_type": "code",
   "execution_count": null,
   "metadata": {
    "collapsed": true
   },
   "outputs": [],
   "source": []
  },
  {
   "cell_type": "code",
   "execution_count": null,
   "metadata": {
    "collapsed": true
   },
   "outputs": [],
   "source": []
  }
 ],
 "metadata": {
  "kernelspec": {
   "display_name": "Python 3",
   "language": "python",
   "name": "python3"
  },
  "language_info": {
   "codemirror_mode": {
    "name": "ipython",
    "version": 3
   },
   "file_extension": ".py",
   "mimetype": "text/x-python",
   "name": "python",
   "nbconvert_exporter": "python",
   "pygments_lexer": "ipython3",
   "version": "3.6.2"
  }
 },
 "nbformat": 4,
 "nbformat_minor": 2
}
